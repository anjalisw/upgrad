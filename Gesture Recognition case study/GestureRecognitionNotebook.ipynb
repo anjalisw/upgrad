{
 "cells": [
  {
   "cell_type": "code",
   "execution_count": 1,
   "metadata": {},
   "outputs": [],
   "source": [
    "import numpy as np\n",
    "import os\n",
    "# from scipy.misc import imread, imresize\n",
    "import cv2\n",
    "from cv2 import imread, resize\n",
    "import datetime\n",
    "import os\n",
    "import matplotlib.pyplot as plt"
   ]
  },
  {
   "cell_type": "code",
   "execution_count": 2,
   "metadata": {},
   "outputs": [],
   "source": [
    "import warnings\n",
    "warnings.filterwarnings('ignore')"
   ]
  },
  {
   "cell_type": "markdown",
   "metadata": {},
   "source": [
    "We set the random seed so that the results don't vary drastically."
   ]
  },
  {
   "cell_type": "code",
   "execution_count": 3,
   "metadata": {},
   "outputs": [],
   "source": [
    "np.random.seed(30)\n",
    "import random as rn\n",
    "rn.seed(30)\n",
    "# from keras import backend as K\n",
    "import tensorflow as tf\n",
    "tf.random.set_seed(30)"
   ]
  },
  {
   "cell_type": "code",
   "execution_count": 4,
   "metadata": {},
   "outputs": [
    {
     "name": "stderr",
     "output_type": "stream",
     "text": [
      "2021-12-26 14:49:57.090734: I tensorflow/stream_executor/cuda/cuda_gpu_executor.cc:939] successful NUMA node read from SysFS had negative value (-1), but there must be at least one NUMA node, so returning NUMA node zero\n",
      "2021-12-26 14:49:57.098053: I tensorflow/stream_executor/cuda/cuda_gpu_executor.cc:939] successful NUMA node read from SysFS had negative value (-1), but there must be at least one NUMA node, so returning NUMA node zero\n",
      "2021-12-26 14:49:57.098355: I tensorflow/stream_executor/cuda/cuda_gpu_executor.cc:939] successful NUMA node read from SysFS had negative value (-1), but there must be at least one NUMA node, so returning NUMA node zero\n"
     ]
    },
    {
     "data": {
      "text/plain": [
       "[PhysicalDevice(name='/physical_device:GPU:0', device_type='GPU')]"
      ]
     },
     "execution_count": 4,
     "metadata": {},
     "output_type": "execute_result"
    }
   ],
   "source": [
    "tf.config.list_physical_devices('GPU')"
   ]
  },
  {
   "cell_type": "markdown",
   "metadata": {},
   "source": [
    "In this block, you read the folder names for training and validation. You also set the `batch_size` here. Note that you set the batch size in such a way that you are able to use the GPU in full capacity. You keep increasing the batch size until the machine throws an error."
   ]
  },
  {
   "cell_type": "code",
   "execution_count": 5,
   "metadata": {},
   "outputs": [],
   "source": [
    "# train_doc = np.random.permutation(open('/notebooks/storage/Final_data/Collated_training/train.csv').readlines())\n",
    "# val_doc = np.random.permutation(open('/notebooks/storage/Final_data/Collated_training/val.csv').readlines())\n",
    "train_doc = np.random.permutation(open('../data/Project_data/train.csv').readlines())\n",
    "val_doc = np.random.permutation(open('../data/Project_data/val.csv').readlines())\n",
    "batch_size = 4 #experiment with the batch size"
   ]
  },
  {
   "cell_type": "code",
   "execution_count": 6,
   "metadata": {},
   "outputs": [
    {
     "data": {
      "text/plain": [
       "(663, 100)"
      ]
     },
     "execution_count": 6,
     "metadata": {},
     "output_type": "execute_result"
    }
   ],
   "source": [
    "len(train_doc), len(val_doc)"
   ]
  },
  {
   "cell_type": "code",
   "execution_count": 7,
   "metadata": {},
   "outputs": [],
   "source": [
    "curr_dt_time = datetime.datetime.now()\n",
    "train_path = '../data/Project_data/train'\n",
    "val_path = '../data/Project_data/val'"
   ]
  },
  {
   "cell_type": "markdown",
   "metadata": {
    "tags": []
   },
   "source": [
    "## Generator\n",
    "This is one of the most important part of the code. The overall structure of the generator has been given. In the generator, you are going to preprocess the images as you have images of 2 different dimensions as well as create a batch of video frames. You have to experiment with `img_idx`, `y`,`z` and normalization such that you get high accuracy."
   ]
  },
  {
   "cell_type": "code",
   "execution_count": 8,
   "metadata": {},
   "outputs": [],
   "source": [
    "def resize_image(image, y, z, channels):\n",
    "    if (y, z) == (120, 120):\n",
    "        if image.shape[1] == 360:\n",
    "            image = resize(image, (y, z), interpolation=cv2.INTER_LINEAR)\n",
    "        elif image.shape[1] == 160:\n",
    "            image = image[:, 20:140]\n",
    "        return image\n",
    "    elif (y, z) == (160, 160):\n",
    "        if image.shape[1] == 360:\n",
    "            image = resize(image, (y, z), interpolation=cv2.INTER_LINEAR)\n",
    "        elif image.shape[1] == 160:\n",
    "            image = np.concatenate([np.zeros((20, 160, channels)), image[:, :], np.zeros((20, 160, channels))], axis=0)\n",
    "        return image"
   ]
  },
  {
   "cell_type": "code",
   "execution_count": 9,
   "metadata": {},
   "outputs": [],
   "source": [
    "# def generator(source_path, folder_list, batch_size):\n",
    "#     print( 'Source path = ', source_path, '; batch size =', batch_size)\n",
    "#     #create a list of image numbers you want to use for a particular video\n",
    "#     img_idx = list(range(30))[::3]\n",
    "#     while True:\n",
    "#         t = np.random.permutation(folder_list)\n",
    "#         # calculate the number of batches\n",
    "#         num_batches = len(folder_list) // batch_size\n",
    "        \n",
    "#         x = len(img_idx)\n",
    "#         y, z = (120, 120)\n",
    "#         for batch in range(num_batches): # we iterate over the number of batches\n",
    "#             # x is the number of images you use for each video, (y,z) is the final size of the input images and 3 is the number of channels RGB\n",
    "#             batch_data = np.zeros((batch_size,x,y,z,3)) \n",
    "#             # batch_labels is the one hot representation of the output\n",
    "#             batch_labels = np.zeros((batch_size,5)) \n",
    "#             for folder in range(batch_size): # iterate over the batch_size\n",
    "#                 imgs = os.listdir(source_path+'/'+ t[folder + (batch*batch_size)].split(';')[0]) # read all the images in the folder\n",
    "#                 for idx,item in enumerate(img_idx): #  Iterate iver the frames/images of a folder to read them in\n",
    "#                     image = imread(source_path+'/'+ t[folder + (batch*batch_size)].strip().split(';')[0]+'/'+imgs[item]).astype(np.float32)\n",
    "                    \n",
    "#                     #videos have two types of dimensions - either 360x360 or 120x160 (depending on the webcam used to record the videos)\n",
    "#                     #crop the images and resize them. Note that the images are of 2 different shape \n",
    "#                     #and the conv3D will throw error if the inputs in a batch have different shapes\n",
    "#                     image = resize_image(image)\n",
    "#                     assert image.shape == (y, z, 3), print(f'{image.shape} || {(y, z, 3)}')\n",
    "                    \n",
    "#                     #normalise and feed in the image\n",
    "#                     image = cv2.normalize(image, None, alpha=0, beta=1, norm_type=cv2.NORM_MINMAX, dtype=cv2.CV_32F)\n",
    "#                     batch_data[folder,idx,:,:,0] = image[:,:,0]\n",
    "#                     batch_data[folder,idx,:,:,1] = image[:,:,1]\n",
    "#                     batch_data[folder,idx,:,:,2] = image[:,:,2]\n",
    "                    \n",
    "#                 batch_labels[folder, int(t[folder + (batch*batch_size)].strip().split(';')[2])] = 1\n",
    "#             yield batch_data, batch_labels #you yield the batch_data and the batch_labels, remember what does yield do\n",
    "\n",
    "        \n",
    "#         # write the code for the remaining data points which are left after full batches\n",
    "        "
   ]
  },
  {
   "cell_type": "code",
   "execution_count": 10,
   "metadata": {},
   "outputs": [],
   "source": [
    "# def generator(source_path, folder_list, batch_size):\n",
    "#     print( 'Source path = ', source_path, '; batch size =', batch_size)\n",
    "    \n",
    "#     #create a list of image numbers you want to use for a particular video\n",
    "#     img_idx = [0, 1, 2, 4, 6, 8, 10, 12, 14, 16, 18, 20, 22, 24, 26, 27, 28, 29]\n",
    "#     channels = 3\n",
    "    \n",
    "#     while True:\n",
    "        \n",
    "#         t = np.random.permutation(folder_list)\n",
    "        \n",
    "#         # calculate the number of batches\n",
    "#         if len(folder_list) % batch_size == 0:\n",
    "#             num_batches = len(folder_list) // batch_size\n",
    "#         else:\n",
    "#             num_batches = (len(folder_list) // batch_size) + 1\n",
    "            \n",
    "#         x = len(img_idx)\n",
    "#         y, z = (120, 120) #image height, image width\n",
    "        \n",
    "#         for batch in range(num_batches): # we iterate over the number of batches\n",
    "#             num_covered_images = batch*batch_size # images already batched\n",
    "#             num_images_left = len(folder_list) - num_covered_images # images left to be batched\n",
    "#             # if images left are less than batch size (partial last batch)\n",
    "#             # then update batch size\n",
    "#             batch_size = num_images_left if (num_images_left < batch_size) else batch_size\n",
    "#             # x is the number of images you use for each video, (y,z) is the final size of the input images and 3 is the number of channels RGB\n",
    "#             batch_data = np.zeros((batch_size,x,y,z,channels)) \n",
    "#             # batch_labels is the one hot representation of the output\n",
    "#             batch_labels = np.zeros((batch_size,5)) \n",
    "#             for folder in range(batch_size): # iterate over the batch_size\n",
    "#                 imgs = os.listdir(source_path+'/'+ t[num_covered_images + folder].split(';')[0]) # read all the images in the folder\n",
    "#                 for idx,item in enumerate(img_idx): #  Iterate iver the frames/images of a folder to read them in\n",
    "#                     image = imread(source_path+'/'+ t[num_covered_images + folder].strip().split(';')[0]+'/'+imgs[item])#.astype(np.float32)\n",
    "                    \n",
    "#                     #videos have two types of dimensions - either 360x360 or 120x160 (depending on the webcam used to record the videos)\n",
    "#                     #crop the images and resize them. Note that the images are of 2 different shape \n",
    "#                     #and the conv3D will throw error if the inputs in a batch have different shapes\n",
    "#                     image = resize_image(image, y, z)\n",
    "#                     assert image.shape == (y, z, 3), print(f'{image.shape} || {(y, z, 3)}')\n",
    "                    \n",
    "#                     #normalise and feed in the image\n",
    "#                     image = cv2.normalize(image, None, alpha=0, beta=1, norm_type=cv2.NORM_MINMAX, dtype=cv2.CV_32F)\n",
    "#                     batch_data[folder,idx,:,:,0] = image[:,:,0]\n",
    "#                     batch_data[folder,idx,:,:,1] = image[:,:,1]\n",
    "#                     batch_data[folder,idx,:,:,2] = image[:,:,2]\n",
    "                    \n",
    "#                 batch_labels[folder, int(t[num_covered_images + folder].strip().split(';')[2])] = 1\n",
    "#             yield batch_data, batch_labels #you yield the batch_data and the batch_labels, remember what does yield do\n",
    "        "
   ]
  },
  {
   "cell_type": "code",
   "execution_count": 11,
   "metadata": {},
   "outputs": [],
   "source": [
    "def generator(source_path, folder_list, batch_size, grayscale=False):\n",
    "    print( 'Source path = ', source_path, '; batch size =', batch_size)\n",
    "    \n",
    "    #create a list of image numbers you want to use for a particular video\n",
    "    img_idx = [0, 1, 2, 4, 6, 8, 10, 12, 14, 16, 18, 20, 22, 24, 26, 27, 28, 29]\n",
    "    channels = 1 if grayscale else 3\n",
    "    \n",
    "    while True:\n",
    "        \n",
    "        t = np.random.permutation(folder_list)\n",
    "        \n",
    "        # calculate the number of batches\n",
    "        if len(folder_list) % batch_size == 0:\n",
    "            num_batches = len(folder_list) // batch_size\n",
    "        else:\n",
    "            num_batches = (len(folder_list) // batch_size) + 1\n",
    "            \n",
    "        x = len(img_idx)\n",
    "        # y, z = (120, 120) #image height, image width\n",
    "        y, z = (160, 160) #image height, image width\n",
    "        \n",
    "        for batch in range(num_batches): # we iterate over the number of batches\n",
    "            num_covered_images = batch*batch_size # images already batched\n",
    "            num_images_left = len(folder_list) - num_covered_images # images left to be batched\n",
    "            # if images left are less than batch size (partial last batch)\n",
    "            # then update batch size\n",
    "            batch_size = num_images_left if (num_images_left < batch_size) else batch_size\n",
    "            # x is the number of images you use for each video, (y,z) is the final size of the input images and 3 is the number of channels RGB\n",
    "            batch_data = np.zeros((batch_size,x,y,z,channels)) \n",
    "            # batch_labels is the one hot representation of the output\n",
    "            batch_labels = np.zeros((batch_size,5)) \n",
    "            for folder in range(batch_size): # iterate over the batch_size\n",
    "                imgs = os.listdir(source_path+'/'+ t[num_covered_images + folder].split(';')[0]) # read all the images in the folder\n",
    "                for idx,item in enumerate(img_idx): #  Iterate iver the frames/images of a folder to read them in\n",
    "                    image = imread(source_path+'/'+ t[num_covered_images + folder].strip().split(';')[0]+'/'+imgs[item])#.astype(np.float32)\n",
    "                    \n",
    "                    #videos have two types of dimensions - either 360x360 or 120x160 (depending on the webcam used to record the videos)\n",
    "                    #crop the images and resize them. Note that the images are of 2 different shape \n",
    "                    #and the conv3D will throw error if the inputs in a batch have different shapes\n",
    "                    image = resize_image(image, y, z, channels)\n",
    "                    assert image.shape == (y, z, 3), print(f'{image.shape} || {(y, z, 3)}') # keep channels 3, not yet converted to grayscale\n",
    "                    \n",
    "                    #normalise and feed in the image\n",
    "                    image = cv2.normalize(image, None, alpha=0, beta=1, norm_type=cv2.NORM_MINMAX, dtype=cv2.CV_32F)\n",
    "                    \n",
    "                    if grayscale:\n",
    "                        image = cv2.cvtColor(image, cv2.COLOR_BGR2GRAY)\n",
    "                        batch_data[folder,idx,:,:,0] = image[:,:]\n",
    "                    else:\n",
    "                        batch_data[folder,idx,:,:,0] = image[:,:,0]\n",
    "                        batch_data[folder,idx,:,:,1] = image[:,:,1]\n",
    "                        batch_data[folder,idx,:,:,2] = image[:,:,2]\n",
    "                    \n",
    "                batch_labels[folder, int(t[num_covered_images + folder].strip().split(';')[2])] = 1\n",
    "            yield batch_data, batch_labels #you yield the batch_data and the batch_labels, remember what does yield do\n",
    "        "
   ]
  },
  {
   "cell_type": "code",
   "execution_count": 12,
   "metadata": {},
   "outputs": [
    {
     "name": "stdout",
     "output_type": "stream",
     "text": [
      "Source path =  ../data/Project_data/train ; batch size = 4\n"
     ]
    },
    {
     "data": {
      "text/plain": [
       "((4, 18, 160, 160, 3), (4, 5))"
      ]
     },
     "execution_count": 12,
     "metadata": {},
     "output_type": "execute_result"
    }
   ],
   "source": [
    "one_batch = next(generator(train_path, train_doc, batch_size, grayscale=False))\n",
    "one_batch[0].shape, one_batch[1].shape"
   ]
  },
  {
   "cell_type": "code",
   "execution_count": 13,
   "metadata": {},
   "outputs": [],
   "source": [
    "# num_covered_images = 90\n",
    "# folder = 3\n",
    "# item = 10\n",
    "# y, z = (120, 120)\n",
    "# t = np.random.permutation(train_doc)\n",
    "# imgs = os.listdir(train_path+'/'+ t[num_covered_images + folder].split(';')[0])\n",
    "# image = imread(train_path+'/'+ t[num_covered_images + folder].strip().split(';')[0]+'/'+imgs[item]).astype(np.float32)"
   ]
  },
  {
   "cell_type": "code",
   "execution_count": 14,
   "metadata": {},
   "outputs": [],
   "source": [
    "# image.shape"
   ]
  },
  {
   "cell_type": "code",
   "execution_count": 15,
   "metadata": {},
   "outputs": [],
   "source": [
    "# if image.shape[1] == 360:\n",
    "#     image = resize(image, (y, z), interpolation=cv2.INTER_LINEAR)\n",
    "# elif image.shape[1] == 160:\n",
    "#     image = image[:, 20:140]"
   ]
  },
  {
   "cell_type": "code",
   "execution_count": 16,
   "metadata": {},
   "outputs": [],
   "source": [
    "# image = cv2.normalize(image, None, alpha=0, beta=1, norm_type=cv2.NORM_MINMAX, dtype=cv2.CV_32F)"
   ]
  },
  {
   "cell_type": "code",
   "execution_count": 17,
   "metadata": {},
   "outputs": [],
   "source": [
    "# image"
   ]
  },
  {
   "cell_type": "code",
   "execution_count": 18,
   "metadata": {},
   "outputs": [],
   "source": [
    "# plt.imshow(image)"
   ]
  },
  {
   "cell_type": "markdown",
   "metadata": {},
   "source": [
    "Note here that a video is represented above in the generator as (number of images, height, width, number of channels). Take this into consideration while creating the model architecture."
   ]
  },
  {
   "cell_type": "code",
   "execution_count": 19,
   "metadata": {},
   "outputs": [
    {
     "name": "stdout",
     "output_type": "stream",
     "text": [
      "# training sequences = 663\n",
      "# validation sequences = 100\n",
      "# epochs = 50\n"
     ]
    }
   ],
   "source": [
    "num_train_sequences = len(train_doc)\n",
    "print('# training sequences =', num_train_sequences)\n",
    "\n",
    "num_val_sequences = len(val_doc)\n",
    "print('# validation sequences =', num_val_sequences)\n",
    "\n",
    "num_epochs = 50 # choose the number of epochs\n",
    "print ('# epochs =', num_epochs)"
   ]
  },
  {
   "cell_type": "markdown",
   "metadata": {},
   "source": [
    "## Model\n",
    "Here you make the model using different functionalities that Keras provides. Remember to use `Conv3D` and `MaxPooling3D` and not `Conv2D` and `Maxpooling2D` for a 3D convolution model. You would want to use `TimeDistributed` while building a Conv2D + RNN model. Also remember that the last layer is the softmax. Design the network in such a way that the model is able to give good accuracy on the least number of parameters so that it can fit in the memory of the webcam."
   ]
  },
  {
   "cell_type": "code",
   "execution_count": 20,
   "metadata": {},
   "outputs": [],
   "source": [
    "from tensorflow import keras\n",
    "from tensorflow.keras.models import Sequential, Model\n",
    "from tensorflow.keras.callbacks import ModelCheckpoint, ReduceLROnPlateau\n",
    "from tensorflow.keras import optimizers, layers\n",
    "from tensorflow.keras.layers import Conv2D, Conv3D, Input, Flatten, Dense, Dropout, GRU, LSTM, TimeDistributed\n",
    "from tensorflow.keras.layers import MaxPooling2D, MaxPooling3D, BatchNormalization, GlobalAveragePooling2D, GlobalAveragePooling3D"
   ]
  },
  {
   "cell_type": "code",
   "execution_count": 21,
   "metadata": {},
   "outputs": [],
   "source": [
    "from tensorflow.keras.applications.mobilenet_v2 import MobileNetV2"
   ]
  },
  {
   "cell_type": "code",
   "execution_count": 22,
   "metadata": {},
   "outputs": [],
   "source": [
    "#write your model here\n",
    "def create_model_cnn3d(width=120, height=120, frames=30, channels=3):\n",
    "    \"\"\"Build a 3D convolutional neural network model.\"\"\"\n",
    "    \n",
    "    inputs = keras.Input((width, height, frames, channels))\n",
    "\n",
    "    x = layers.Conv3D(filters=64, kernel_size=3, strides=1, padding='same', activation=\"relu\")(inputs)\n",
    "    x = layers.MaxPooling3D(pool_size=2)(x)\n",
    "    x = layers.BatchNormalization()(x)\n",
    "    \n",
    "    x = layers.Conv3D(filters=128, kernel_size=3, strides=1, padding='same', activation=\"relu\")(x)\n",
    "    x = layers.MaxPooling3D(pool_size=2)(x)\n",
    "    x = layers.BatchNormalization()(x)\n",
    "\n",
    "    x = layers.Conv3D(filters=256, kernel_size=3, strides=1, padding='same', activation=\"relu\")(x)\n",
    "    x = layers.MaxPooling3D(pool_size=2)(x)\n",
    "    x = layers.BatchNormalization()(x)\n",
    "\n",
    "    x = layers.GlobalAveragePooling3D()(x)\n",
    "    x = layers.Flatten()(x)\n",
    "    x = layers.Dense(units=1024, activation=\"relu\")(x)\n",
    "    x = layers.Dropout(0.2)(x)\n",
    "    x = layers.Dense(units=256, activation=\"relu\")(x)\n",
    "    x = layers.Dropout(0.2)(x)\n",
    "    \n",
    "    outputs = layers.Dense(units=5, activation=\"softmax\")(x)\n",
    "\n",
    "    # Define the model.\n",
    "    model = keras.Model(inputs, outputs, name=\"3dcnn\")\n",
    "    return model"
   ]
  },
  {
   "cell_type": "code",
   "execution_count": 23,
   "metadata": {},
   "outputs": [],
   "source": [
    "# #write your model here\n",
    "# def create_model_cnn3d(width=120, height=120, depth=30, channels=3):\n",
    "#     \"\"\"Build a 3D convolutional neural network model.\"\"\"\n",
    "\n",
    "#     inputs = keras.Input((width, height, depth, channels))\n",
    "\n",
    "#     x = layers.Conv3D(filters=64, kernel_size=3, strides=1, padding='same', activation=\"relu\")(inputs)\n",
    "#     x = layers.Conv3D(filters=64, kernel_size=3, strides=1, padding='same', activation=\"relu\")(x)\n",
    "#     x = layers.MaxPool3D(pool_size=2)(x)\n",
    "#     x = layers.BatchNormalization()(x)\n",
    "\n",
    "#     # x = layers.Conv3D(filters=64, kernel_size=3, strides=1, padding='same', activation=\"relu\")(x)\n",
    "#     # x = layers.MaxPool3D(pool_size=2)(x)\n",
    "#     # x = layers.BatchNormalization()(x)\n",
    "\n",
    "#     x = layers.Conv3D(filters=128, kernel_size=3, strides=1, padding='same', activation=\"relu\")(x)\n",
    "#     x = layers.Conv3D(filters=128, kernel_size=3, strides=1, padding='same', activation=\"relu\")(x)\n",
    "#     x = layers.MaxPool3D(pool_size=2)(x)\n",
    "#     x = layers.BatchNormalization()(x)\n",
    "\n",
    "#     x = layers.Conv3D(filters=256, kernel_size=3, strides=1, padding='same', activation=\"relu\")(x)\n",
    "#     x = layers.Conv3D(filters=256, kernel_size=3, strides=1, padding='same', activation=\"relu\")(x)\n",
    "#     x = layers.MaxPool3D(pool_size=2)(x)\n",
    "#     x = layers.BatchNormalization()(x)\n",
    "\n",
    "#     x = layers.GlobalAveragePooling3D()(x)\n",
    "#     x = layers.Dense(units=1024, activation=\"relu\")(x)\n",
    "#     x = layers.Dropout(0.2)(x)\n",
    "#     x = layers.Dense(units=256, activation=\"relu\")(x)\n",
    "#     x = layers.Dropout(0.2)(x)\n",
    "    \n",
    "#     outputs = layers.Dense(units=5, activation=\"softmax\")(x)\n",
    "\n",
    "#     # Define the model.\n",
    "#     model = keras.Model(inputs, outputs, name=\"3dcnn\")\n",
    "#     return model"
   ]
  },
  {
   "cell_type": "code",
   "execution_count": 24,
   "metadata": {},
   "outputs": [],
   "source": [
    "#write your model here\n",
    "def create_model_tdcnn(width=120, height=120, frames=30, channels=3):\n",
    "    \"\"\"Build a 3D convolutional neural network model.\"\"\"\n",
    "\n",
    "    inputs = Input((frames, width, height, channels))\n",
    "\n",
    "    x = TimeDistributed(Conv2D(filters=64, kernel_size=3, strides=1, padding='same', activation=\"relu\"))(inputs)\n",
    "    x = TimeDistributed(MaxPooling2D(pool_size=2))(x)\n",
    "    x = TimeDistributed(BatchNormalization())(x)\n",
    "\n",
    "    x = TimeDistributed(Conv2D(filters=128, kernel_size=3, strides=1, padding='same', activation=\"relu\"))(x)\n",
    "    x = TimeDistributed(MaxPooling2D(pool_size=2))(x)\n",
    "    x = TimeDistributed(BatchNormalization())(x)\n",
    "\n",
    "    x = TimeDistributed(Conv2D(filters=256, kernel_size=3, strides=1, padding='same', activation=\"relu\"))(x)\n",
    "    x = TimeDistributed(MaxPooling2D(pool_size=2))(x)\n",
    "    x = TimeDistributed(BatchNormalization())(x)\n",
    "\n",
    "    # x = GlobalAveragePooling2D()(x)\n",
    "    x = TimeDistributed(Flatten())(x)\n",
    "    \n",
    "    # x = GRU(units=256, return_sequences=True)(x)\n",
    "    x = GRU(units=256)(x)\n",
    "    \n",
    "    x = Dense(units=1024, activation=\"relu\")(x)\n",
    "    x = Dropout(0.5)(x)\n",
    "    x = Dense(units=256, activation=\"relu\")(x)\n",
    "    x = Dropout(0.5)(x)\n",
    "    \n",
    "    outputs = Dense(units=5, activation=\"softmax\")(x)\n",
    "\n",
    "    # Define the model.\n",
    "    model = keras.Model(inputs, outputs, name=\"tdcnn\")\n",
    "    return model"
   ]
  },
  {
   "cell_type": "code",
   "execution_count": 25,
   "metadata": {},
   "outputs": [],
   "source": [
    "#write your model here\n",
    "def create_model_tdcnn_pretrained(width=120, height=120, frames=30, channels=3):\n",
    "    \"\"\"Build a 3D convolutional neural network model.\"\"\"\n",
    "    \n",
    "    # create the base pre-trained model\n",
    "    base_model = MobileNetV2(weights='imagenet', include_top=False)\n",
    "    \n",
    "    inputs = Input((frames, width, height, channels))\n",
    "\n",
    "    x = TimeDistributed(base_model)(inputs)\n",
    "\n",
    "    x = TimeDistributed(GlobalAveragePooling2D())(x)\n",
    "    x = TimeDistributed(Flatten())(x)\n",
    "    \n",
    "    # x = GRU(units=256, return_sequences=True)(x)\n",
    "    x = GRU(units=256)(x)\n",
    "    \n",
    "    x = Dense(units=1024, activation=\"relu\")(x)\n",
    "    x = Dropout(0.5)(x)\n",
    "    x = Dense(units=256, activation=\"relu\")(x)\n",
    "    x = Dropout(0.5)(x)\n",
    "    \n",
    "    outputs = Dense(units=5, activation=\"softmax\")(x)\n",
    "\n",
    "    # Define the model.\n",
    "    model = keras.Model(inputs, outputs, name=\"tdcnn\")\n",
    "    return model"
   ]
  },
  {
   "cell_type": "code",
   "execution_count": 26,
   "metadata": {},
   "outputs": [
    {
     "name": "stdout",
     "output_type": "stream",
     "text": [
      "WARNING:tensorflow:`input_shape` is undefined or non-square, or `rows` is not in [96, 128, 160, 192, 224]. Weights for input shape (224, 224) will be loaded as the default.\n"
     ]
    },
    {
     "name": "stderr",
     "output_type": "stream",
     "text": [
      "2021-12-26 14:49:58.644052: I tensorflow/core/platform/cpu_feature_guard.cc:151] This TensorFlow binary is optimized with oneAPI Deep Neural Network Library (oneDNN) to use the following CPU instructions in performance-critical operations:  AVX2 FMA\n",
      "To enable them in other operations, rebuild TensorFlow with the appropriate compiler flags.\n",
      "2021-12-26 14:49:58.644660: I tensorflow/stream_executor/cuda/cuda_gpu_executor.cc:939] successful NUMA node read from SysFS had negative value (-1), but there must be at least one NUMA node, so returning NUMA node zero\n",
      "2021-12-26 14:49:58.644952: I tensorflow/stream_executor/cuda/cuda_gpu_executor.cc:939] successful NUMA node read from SysFS had negative value (-1), but there must be at least one NUMA node, so returning NUMA node zero\n",
      "2021-12-26 14:49:58.645166: I tensorflow/stream_executor/cuda/cuda_gpu_executor.cc:939] successful NUMA node read from SysFS had negative value (-1), but there must be at least one NUMA node, so returning NUMA node zero\n",
      "2021-12-26 14:49:59.052035: I tensorflow/stream_executor/cuda/cuda_gpu_executor.cc:939] successful NUMA node read from SysFS had negative value (-1), but there must be at least one NUMA node, so returning NUMA node zero\n",
      "2021-12-26 14:49:59.052303: I tensorflow/stream_executor/cuda/cuda_gpu_executor.cc:939] successful NUMA node read from SysFS had negative value (-1), but there must be at least one NUMA node, so returning NUMA node zero\n",
      "2021-12-26 14:49:59.052524: I tensorflow/stream_executor/cuda/cuda_gpu_executor.cc:939] successful NUMA node read from SysFS had negative value (-1), but there must be at least one NUMA node, so returning NUMA node zero\n",
      "2021-12-26 14:49:59.052730: I tensorflow/core/common_runtime/gpu/gpu_device.cc:1525] Created device /job:localhost/replica:0/task:0/device:GPU:0 with 2972 MB memory:  -> device: 0, name: NVIDIA GeForce GTX 1050 Ti, pci bus id: 0000:01:00.0, compute capability: 6.1\n"
     ]
    },
    {
     "name": "stdout",
     "output_type": "stream",
     "text": [
      "Model: \"tdcnn\"\n",
      "_________________________________________________________________\n",
      " Layer (type)                Output Shape              Param #   \n",
      "=================================================================\n",
      " input_2 (InputLayer)        [(None, 18, 160, 160, 3)  0         \n",
      "                             ]                                   \n",
      "                                                                 \n",
      " time_distributed (TimeDistr  (None, 18, 5, 5, 1280)   2257984   \n",
      " ibuted)                                                         \n",
      "                                                                 \n",
      " time_distributed_1 (TimeDis  (None, 18, 1280)         0         \n",
      " tributed)                                                       \n",
      "                                                                 \n",
      " time_distributed_2 (TimeDis  (None, 18, 1280)         0         \n",
      " tributed)                                                       \n",
      "                                                                 \n",
      " gru (GRU)                   (None, 256)               1181184   \n",
      "                                                                 \n",
      " dense (Dense)               (None, 1024)              263168    \n",
      "                                                                 \n",
      " dropout (Dropout)           (None, 1024)              0         \n",
      "                                                                 \n",
      " dense_1 (Dense)             (None, 256)               262400    \n",
      "                                                                 \n",
      " dropout_1 (Dropout)         (None, 256)               0         \n",
      "                                                                 \n",
      " dense_2 (Dense)             (None, 5)                 1285      \n",
      "                                                                 \n",
      "=================================================================\n",
      "Total params: 3,966,021\n",
      "Trainable params: 3,931,909\n",
      "Non-trainable params: 34,112\n",
      "_________________________________________________________________\n"
     ]
    }
   ],
   "source": [
    "# Build model.\n",
    "grayscale = False\n",
    "frames = one_batch[0].shape[1]\n",
    "channels = 1 if grayscale else 3\n",
    "\n",
    "# model = create_model_cnn3d(width=120, height=120, frames=frames, channels=channels)\n",
    "# model = create_model_tdcnn(width=120, height=120, frames=frames, channels=channels)\n",
    "model = create_model_tdcnn_pretrained(width=160, height=160, frames=frames, channels=channels)\n",
    "model.summary()"
   ]
  },
  {
   "cell_type": "markdown",
   "metadata": {},
   "source": [
    "Now that you have written the model, the next step is to `compile` the model. When you print the `summary` of the model, you'll see the total number of parameters you have to train."
   ]
  },
  {
   "cell_type": "code",
   "execution_count": 27,
   "metadata": {
    "scrolled": true
   },
   "outputs": [],
   "source": [
    "learning_rate = 5e-5\n",
    "optimiser = keras.optimizers.Adam(learning_rate=learning_rate) #write your optimizer\n",
    "model.compile(optimizer=optimiser, loss='categorical_crossentropy', metrics=['categorical_accuracy'])\n",
    "# print (model.summary())"
   ]
  },
  {
   "cell_type": "markdown",
   "metadata": {},
   "source": [
    "Let us create the `train_generator` and the `val_generator` which will be used in `.fit_generator`."
   ]
  },
  {
   "cell_type": "code",
   "execution_count": 28,
   "metadata": {},
   "outputs": [],
   "source": [
    "train_generator = generator(train_path, train_doc, batch_size, grayscale=grayscale)\n",
    "val_generator = generator(val_path, val_doc, batch_size, grayscale=grayscale)"
   ]
  },
  {
   "cell_type": "code",
   "execution_count": 29,
   "metadata": {},
   "outputs": [
    {
     "name": "stdout",
     "output_type": "stream",
     "text": [
      "WARNING:tensorflow:`period` argument is deprecated. Please use `save_freq` to specify the frequency in number of batches seen.\n"
     ]
    }
   ],
   "source": [
    "model_name = '../models/model_init' + '_' + str(curr_dt_time).replace(' ','').replace(':','_') + '/'\n",
    "    \n",
    "if not os.path.exists(model_name):\n",
    "    os.mkdir(model_name)\n",
    "        \n",
    "filepath = model_name + 'model-{epoch:05d}-{loss:.5f}-{categorical_accuracy:.5f}-{val_loss:.5f}-{val_categorical_accuracy:.5f}.h5'\n",
    "\n",
    "checkpoint = ModelCheckpoint(filepath, monitor='val_loss', verbose=1, save_best_only=False, save_weights_only=False, mode='auto', period=1)\n",
    "early_stop = keras.callbacks.EarlyStopping(monitor='val_loss', mode='min', patience=5)\n",
    "# write the REducelronplateau code here\n",
    "LR = ReduceLROnPlateau(monitor='val_loss', factor=0.5, patience=3, min_lr=1e-6)\n",
    "# callbacks_list = [checkpoint, LR, early_stop]\n",
    "callbacks_list = [checkpoint, early_stop]"
   ]
  },
  {
   "cell_type": "markdown",
   "metadata": {},
   "source": [
    "The `steps_per_epoch` and `validation_steps` are used by `fit_generator` to decide the number of next() calls it need to make."
   ]
  },
  {
   "cell_type": "code",
   "execution_count": 30,
   "metadata": {},
   "outputs": [],
   "source": [
    "if (num_train_sequences%batch_size) == 0:\n",
    "    steps_per_epoch = int(num_train_sequences/batch_size)\n",
    "else:\n",
    "    steps_per_epoch = (num_train_sequences//batch_size) + 1\n",
    "\n",
    "if (num_val_sequences%batch_size) == 0:\n",
    "    validation_steps = int(num_val_sequences/batch_size)\n",
    "else:\n",
    "    validation_steps = (num_val_sequences//batch_size) + 1"
   ]
  },
  {
   "cell_type": "markdown",
   "metadata": {},
   "source": [
    "Let us now fit the model. This will start training the model and with the help of the checkpoints, you'll be able to save the model at the end of each epoch."
   ]
  },
  {
   "cell_type": "code",
   "execution_count": 31,
   "metadata": {},
   "outputs": [
    {
     "name": "stdout",
     "output_type": "stream",
     "text": [
      "Source path =  ../data/Project_data/train ; batch size = 4\n",
      "Epoch 1/50\n"
     ]
    },
    {
     "name": "stderr",
     "output_type": "stream",
     "text": [
      "2021-12-26 14:50:06.246245: I tensorflow/stream_executor/cuda/cuda_dnn.cc:366] Loaded cuDNN version 8204\n",
      "2021-12-26 14:50:07.490047: W tensorflow/core/common_runtime/bfc_allocator.cc:275] Allocator (GPU_0_bfc) ran out of memory trying to allocate 844.05MiB with freed_by_count=0. The caller indicates that this is not a failure, but may mean that there could be performance gains if more memory were available.\n",
      "2021-12-26 14:50:07.510562: W tensorflow/core/common_runtime/bfc_allocator.cc:275] Allocator (GPU_0_bfc) ran out of memory trying to allocate 968.19MiB with freed_by_count=0. The caller indicates that this is not a failure, but may mean that there could be performance gains if more memory were available.\n",
      "2021-12-26 14:50:07.792891: W tensorflow/core/common_runtime/bfc_allocator.cc:275] Allocator (GPU_0_bfc) ran out of memory trying to allocate 1.09GiB with freed_by_count=0. The caller indicates that this is not a failure, but may mean that there could be performance gains if more memory were available.\n",
      "2021-12-26 14:50:07.819215: W tensorflow/core/common_runtime/bfc_allocator.cc:275] Allocator (GPU_0_bfc) ran out of memory trying to allocate 924.79MiB with freed_by_count=0. The caller indicates that this is not a failure, but may mean that there could be performance gains if more memory were available.\n",
      "2021-12-26 14:50:07.830209: W tensorflow/core/common_runtime/bfc_allocator.cc:275] Allocator (GPU_0_bfc) ran out of memory trying to allocate 742.80MiB with freed_by_count=0. The caller indicates that this is not a failure, but may mean that there could be performance gains if more memory were available.\n",
      "2021-12-26 14:50:07.845733: W tensorflow/core/common_runtime/bfc_allocator.cc:275] Allocator (GPU_0_bfc) ran out of memory trying to allocate 693.20MiB with freed_by_count=0. The caller indicates that this is not a failure, but may mean that there could be performance gains if more memory were available.\n",
      "2021-12-26 14:50:08.568750: W tensorflow/core/common_runtime/bfc_allocator.cc:275] Allocator (GPU_0_bfc) ran out of memory trying to allocate 1.06GiB with freed_by_count=0. The caller indicates that this is not a failure, but may mean that there could be performance gains if more memory were available.\n",
      "2021-12-26 14:50:08.609098: W tensorflow/core/common_runtime/bfc_allocator.cc:275] Allocator (GPU_0_bfc) ran out of memory trying to allocate 1.18GiB with freed_by_count=0. The caller indicates that this is not a failure, but may mean that there could be performance gains if more memory were available.\n"
     ]
    },
    {
     "name": "stdout",
     "output_type": "stream",
     "text": [
      "165/166 [============================>.] - ETA: 0s - loss: 1.6303 - categorical_accuracy: 0.2379"
     ]
    },
    {
     "name": "stderr",
     "output_type": "stream",
     "text": [
      "2021-12-26 14:51:36.353664: W tensorflow/core/common_runtime/bfc_allocator.cc:275] Allocator (GPU_0_bfc) ran out of memory trying to allocate 674.13MiB with freed_by_count=0. The caller indicates that this is not a failure, but may mean that there could be performance gains if more memory were available.\n",
      "2021-12-26 14:51:36.793742: W tensorflow/core/common_runtime/bfc_allocator.cc:275] Allocator (GPU_0_bfc) ran out of memory trying to allocate 955.53MiB with freed_by_count=0. The caller indicates that this is not a failure, but may mean that there could be performance gains if more memory were available.\n"
     ]
    },
    {
     "name": "stdout",
     "output_type": "stream",
     "text": [
      "166/166 [==============================] - ETA: 0s - loss: 1.6304 - categorical_accuracy: 0.2368Source path =  ../data/Project_data/val ; batch size = 4\n",
      "\n",
      "Epoch 00001: saving model to ../models/model_init_2021-12-2614_49_57.271093/model-00001-1.63040-0.23680-1.49032-0.43000.h5\n",
      "166/166 [==============================] - 103s 579ms/step - loss: 1.6304 - categorical_accuracy: 0.2368 - val_loss: 1.4903 - val_categorical_accuracy: 0.4300\n",
      "Epoch 2/50\n",
      "166/166 [==============================] - ETA: 0s - loss: 1.4404 - categorical_accuracy: 0.3855\n",
      "Epoch 00002: saving model to ../models/model_init_2021-12-2614_49_57.271093/model-00002-1.44041-0.38554-1.21093-0.60000.h5\n",
      "166/166 [==============================] - 72s 436ms/step - loss: 1.4404 - categorical_accuracy: 0.3855 - val_loss: 1.2109 - val_categorical_accuracy: 0.6000\n",
      "Epoch 3/50\n",
      "166/166 [==============================] - ETA: 0s - loss: 1.2125 - categorical_accuracy: 0.5100\n",
      "Epoch 00003: saving model to ../models/model_init_2021-12-2614_49_57.271093/model-00003-1.21252-0.51004-0.87472-0.71000.h5\n",
      "166/166 [==============================] - 73s 438ms/step - loss: 1.2125 - categorical_accuracy: 0.5100 - val_loss: 0.8747 - val_categorical_accuracy: 0.7100\n",
      "Epoch 4/50\n",
      "166/166 [==============================] - ETA: 0s - loss: 0.9305 - categorical_accuracy: 0.6185\n",
      "Epoch 00004: saving model to ../models/model_init_2021-12-2614_49_57.271093/model-00004-0.93050-0.61847-0.56276-0.84000.h5\n",
      "166/166 [==============================] - 73s 440ms/step - loss: 0.9305 - categorical_accuracy: 0.6185 - val_loss: 0.5628 - val_categorical_accuracy: 0.8400\n",
      "Epoch 5/50\n",
      "166/166 [==============================] - ETA: 0s - loss: 0.7860 - categorical_accuracy: 0.6847\n",
      "Epoch 00005: saving model to ../models/model_init_2021-12-2614_49_57.271093/model-00005-0.78600-0.68474-0.45770-0.84000.h5\n",
      "166/166 [==============================] - 76s 456ms/step - loss: 0.7860 - categorical_accuracy: 0.6847 - val_loss: 0.4577 - val_categorical_accuracy: 0.8400\n",
      "Epoch 6/50\n",
      "166/166 [==============================] - ETA: 0s - loss: 0.6443 - categorical_accuracy: 0.7550\n",
      "Epoch 00006: saving model to ../models/model_init_2021-12-2614_49_57.271093/model-00006-0.64434-0.75502-0.34301-0.86000.h5\n",
      "166/166 [==============================] - 75s 452ms/step - loss: 0.6443 - categorical_accuracy: 0.7550 - val_loss: 0.3430 - val_categorical_accuracy: 0.8600\n",
      "Epoch 7/50\n",
      "166/166 [==============================] - ETA: 0s - loss: 0.5120 - categorical_accuracy: 0.7992\n",
      "Epoch 00007: saving model to ../models/model_init_2021-12-2614_49_57.271093/model-00007-0.51199-0.79920-0.24742-0.89000.h5\n",
      "166/166 [==============================] - 73s 438ms/step - loss: 0.5120 - categorical_accuracy: 0.7992 - val_loss: 0.2474 - val_categorical_accuracy: 0.8900\n",
      "Epoch 8/50\n",
      "166/166 [==============================] - ETA: 0s - loss: 0.4040 - categorical_accuracy: 0.8574\n",
      "Epoch 00008: saving model to ../models/model_init_2021-12-2614_49_57.271093/model-00008-0.40398-0.85743-0.38769-0.86000.h5\n",
      "166/166 [==============================] - 75s 451ms/step - loss: 0.4040 - categorical_accuracy: 0.8574 - val_loss: 0.3877 - val_categorical_accuracy: 0.8600\n",
      "Epoch 9/50\n",
      "166/166 [==============================] - ETA: 0s - loss: 0.3315 - categorical_accuracy: 0.8775\n",
      "Epoch 00009: saving model to ../models/model_init_2021-12-2614_49_57.271093/model-00009-0.33147-0.87751-0.36076-0.87000.h5\n",
      "166/166 [==============================] - 74s 445ms/step - loss: 0.3315 - categorical_accuracy: 0.8775 - val_loss: 0.3608 - val_categorical_accuracy: 0.8700\n",
      "Epoch 10/50\n",
      "166/166 [==============================] - ETA: 0s - loss: 0.2900 - categorical_accuracy: 0.8996\n",
      "Epoch 00010: saving model to ../models/model_init_2021-12-2614_49_57.271093/model-00010-0.29005-0.89960-0.70428-0.80000.h5\n",
      "166/166 [==============================] - 74s 446ms/step - loss: 0.2900 - categorical_accuracy: 0.8996 - val_loss: 0.7043 - val_categorical_accuracy: 0.8000\n",
      "Epoch 11/50\n",
      "166/166 [==============================] - ETA: 0s - loss: 0.2900 - categorical_accuracy: 0.8936\n",
      "Epoch 00011: saving model to ../models/model_init_2021-12-2614_49_57.271093/model-00011-0.28997-0.89357-0.46345-0.90000.h5\n",
      "166/166 [==============================] - 75s 450ms/step - loss: 0.2900 - categorical_accuracy: 0.8936 - val_loss: 0.4635 - val_categorical_accuracy: 0.9000\n",
      "Epoch 12/50\n",
      "166/166 [==============================] - ETA: 0s - loss: 0.2953 - categorical_accuracy: 0.9016\n",
      "Epoch 00012: saving model to ../models/model_init_2021-12-2614_49_57.271093/model-00012-0.29532-0.90161-0.30046-0.90000.h5\n",
      "166/166 [==============================] - 75s 450ms/step - loss: 0.2953 - categorical_accuracy: 0.9016 - val_loss: 0.3005 - val_categorical_accuracy: 0.9000\n"
     ]
    }
   ],
   "source": [
    "history = model.fit_generator(train_generator, steps_per_epoch=steps_per_epoch, epochs=num_epochs, verbose=1, \n",
    "                    callbacks=callbacks_list, validation_data=val_generator, \n",
    "                    validation_steps=validation_steps, class_weight=None, workers=1, initial_epoch=0)"
   ]
  },
  {
   "cell_type": "code",
   "execution_count": 32,
   "metadata": {},
   "outputs": [
    {
     "data": {
      "image/png": "[encoded data removed]",
      "text/plain": [
       "<Figure size 1080x432 with 2 Axes>"
      ]
     },
     "metadata": {
      "needs_background": "light"
     },
     "output_type": "display_data"
    }
   ],
   "source": [
    "acc = history.history['categorical_accuracy']\n",
    "val_acc = history.history['val_categorical_accuracy']\n",
    "\n",
    "loss = history.history['loss']\n",
    "val_loss = history.history['val_loss']\n",
    "\n",
    "epochs_range = range(len(history.history['loss']))\n",
    "\n",
    "plt.figure(figsize=(15, 6))\n",
    "plt.subplot(1, 2, 1)\n",
    "plt.plot(epochs_range, acc, label='Training Accuracy')\n",
    "plt.plot(epochs_range, val_acc, label='Validation Accuracy')\n",
    "plt.legend(loc='lower right')\n",
    "plt.title('Training and Validation Accuracy')\n",
    "\n",
    "plt.subplot(1, 2, 2)\n",
    "plt.plot(epochs_range, loss, label='Training Loss')\n",
    "plt.plot(epochs_range, val_loss, label='Validation Loss')\n",
    "plt.legend(loc='upper right')\n",
    "plt.title('Training and Validation Loss')\n",
    "plt.show()"
   ]
  },
  {
   "cell_type": "code",
   "execution_count": null,
   "metadata": {},
   "outputs": [],
   "source": []
  },
  {
   "cell_type": "code",
   "execution_count": null,
   "metadata": {},
   "outputs": [],
   "source": []
  }
 ],
 "metadata": {
  "kernelspec": {
   "display_name": "Python 3 (ipykernel)",
   "language": "python",
   "name": "python3"
  },
  "language_info": {
   "codemirror_mode": {
    "name": "ipython",
    "version": 3
   },
   "file_extension": ".py",
   "mimetype": "text/x-python",
   "name": "python",
   "nbconvert_exporter": "python",
   "pygments_lexer": "ipython3",
   "version": "3.8.10"
  }
 },
 "nbformat": 4,
 "nbformat_minor": 4
}
